{
  "cells": [
    {
      "cell_type": "code",
      "execution_count": 2,
      "metadata": {
        "colab": {
          "base_uri": "https://localhost:8080/"
        },
        "id": "sqIztWkepm1s",
        "outputId": "8c21d236-6bf0-46e8-cfb7-5e3163575fd5"
      },
      "outputs": [],
      "source": [
        "# from google.colab import drive\n",
        "# drive.mount('/content/drive')"
      ]
    },
    {
      "cell_type": "code",
      "execution_count": 3,
      "metadata": {
        "id": "7D2HISg7qAI3"
      },
      "outputs": [],
      "source": [
        "import numpy as np\n",
        "import pandas as pd\n",
        "import matplotlib.pyplot as plt\n",
        "import sklearn\n",
        "from sklearn.metrics import f1_score\n",
        "from sklearn.model_selection import train_test_split\n",
        "import cv2\n",
        "\n",
        "import tensorflow as tf\n",
        "from tensorflow.keras.preprocessing.image import ImageDataGenerator, img_to_array, load_img\n",
        "from tensorflow.keras.models import Sequential\n",
        "from tensorflow.keras.layers import Conv2D, MaxPooling2D, Flatten, Dense, BatchNormalization, MaxPool2D, Dropout\n",
        "from tensorflow.keras.callbacks import EarlyStopping, ReduceLROnPlateau, ModelCheckpoint, TensorBoard\n",
        "from tensorflow.python import debug as tf_debug\n",
        "\n",
        "try: \n",
        "    import warnings\n",
        "    warnings.filterwarnings('ignore')\n",
        "except:\n",
        "    pass"
      ]
    },
    {
      "cell_type": "code",
      "execution_count": 1,
      "metadata": {},
      "outputs": [
        {
          "name": "stdout",
          "output_type": "stream",
          "text": [
            "[PhysicalDevice(name='/physical_device:GPU:0', device_type='GPU')]\n"
          ]
        }
      ],
      "source": [
        "import tensorflow as tf\n",
        "print(tf.config.list_physical_devices('GPU'))"
      ]
    },
    {
      "cell_type": "code",
      "execution_count": 2,
      "metadata": {},
      "outputs": [
        {
          "name": "stdout",
          "output_type": "stream",
          "text": [
            "WARNING:tensorflow:From C:\\Users\\Vladi\\AppData\\Local\\Temp\\ipykernel_2844\\27229057.py:1: is_gpu_available (from tensorflow.python.framework.test_util) is deprecated and will be removed in a future version.\n",
            "Instructions for updating:\n",
            "Use `tf.config.list_physical_devices('GPU')` instead.\n",
            "GPU is available and detected by TensorFlow\n",
            "[PhysicalDevice(name='/physical_device:GPU:0', device_type='GPU')]\n"
          ]
        }
      ],
      "source": [
        "if tf.test.is_gpu_available():\n",
        "    print('GPU is available and detected by TensorFlow')\n",
        "    print(tf.config.list_physical_devices('GPU'))\n",
        "else:\n",
        "    print('GPU is NOT available or NOT detected by TensorFlow')"
      ]
    },
    {
      "cell_type": "code",
      "execution_count": 5,
      "metadata": {
        "id": "bnQcHlimqNSu"
      },
      "outputs": [],
      "source": [
        "# import os\n",
        "# os.chdir('/content/drive/My Drive/Colab Notebooks/oracle reto 1')"
      ]
    },
    {
      "cell_type": "code",
      "execution_count": 6,
      "metadata": {
        "colab": {
          "base_uri": "https://localhost:8080/",
          "height": 206
        },
        "id": "5LokG3JjqEhO",
        "outputId": "7f04833b-42b9-4ec9-e58d-b541f0a1beb3"
      },
      "outputs": [
        {
          "data": {
            "text/html": [
              "<div>\n",
              "<style scoped>\n",
              "    .dataframe tbody tr th:only-of-type {\n",
              "        vertical-align: middle;\n",
              "    }\n",
              "\n",
              "    .dataframe tbody tr th {\n",
              "        vertical-align: top;\n",
              "    }\n",
              "\n",
              "    .dataframe thead th {\n",
              "        text-align: right;\n",
              "    }\n",
              "</style>\n",
              "<table border=\"1\" class=\"dataframe\">\n",
              "  <thead>\n",
              "    <tr style=\"text-align: right;\">\n",
              "      <th></th>\n",
              "      <th>idx_train</th>\n",
              "      <th>path_img</th>\n",
              "      <th>label</th>\n",
              "    </tr>\n",
              "  </thead>\n",
              "  <tbody>\n",
              "    <tr>\n",
              "      <th>0</th>\n",
              "      <td>0</td>\n",
              "      <td>all_imgs/bc7696f4-1460-4d0b-a63d-f84b3be4da0f....</td>\n",
              "      <td>0</td>\n",
              "    </tr>\n",
              "    <tr>\n",
              "      <th>1</th>\n",
              "      <td>1</td>\n",
              "      <td>all_imgs/f8d50663-60d8-4da5-a8b8-79f954aec503....</td>\n",
              "      <td>2</td>\n",
              "    </tr>\n",
              "    <tr>\n",
              "      <th>2</th>\n",
              "      <td>2</td>\n",
              "      <td>all_imgs/51df0f29-758b-4741-ab74-a0ff8e21c044....</td>\n",
              "      <td>4</td>\n",
              "    </tr>\n",
              "    <tr>\n",
              "      <th>3</th>\n",
              "      <td>3</td>\n",
              "      <td>all_imgs/f61b81d3-3b79-4162-b4d6-4f1b39518c4c....</td>\n",
              "      <td>0</td>\n",
              "    </tr>\n",
              "    <tr>\n",
              "      <th>4</th>\n",
              "      <td>4</td>\n",
              "      <td>all_imgs/b21e0668-bd09-4794-9e90-da8ecffc4c1c....</td>\n",
              "      <td>0</td>\n",
              "    </tr>\n",
              "  </tbody>\n",
              "</table>\n",
              "</div>"
            ],
            "text/plain": [
              "   idx_train                                           path_img  label\n",
              "0          0  all_imgs/bc7696f4-1460-4d0b-a63d-f84b3be4da0f....      0\n",
              "1          1  all_imgs/f8d50663-60d8-4da5-a8b8-79f954aec503....      2\n",
              "2          2  all_imgs/51df0f29-758b-4741-ab74-a0ff8e21c044....      4\n",
              "3          3  all_imgs/f61b81d3-3b79-4162-b4d6-4f1b39518c4c....      0\n",
              "4          4  all_imgs/b21e0668-bd09-4794-9e90-da8ecffc4c1c....      0"
            ]
          },
          "execution_count": 6,
          "metadata": {},
          "output_type": "execute_result"
        }
      ],
      "source": [
        "train = pd.read_csv(\"train.csv\")\n",
        "train.head()"
      ]
    },
    {
      "cell_type": "code",
      "execution_count": 7,
      "metadata": {
        "colab": {
          "base_uri": "https://localhost:8080/",
          "height": 206
        },
        "id": "SWsknyYrqLI-",
        "outputId": "c4b031e1-a2fc-4675-a3a2-9ebc403c914a"
      },
      "outputs": [
        {
          "data": {
            "text/html": [
              "<div>\n",
              "<style scoped>\n",
              "    .dataframe tbody tr th:only-of-type {\n",
              "        vertical-align: middle;\n",
              "    }\n",
              "\n",
              "    .dataframe tbody tr th {\n",
              "        vertical-align: top;\n",
              "    }\n",
              "\n",
              "    .dataframe thead th {\n",
              "        text-align: right;\n",
              "    }\n",
              "</style>\n",
              "<table border=\"1\" class=\"dataframe\">\n",
              "  <thead>\n",
              "    <tr style=\"text-align: right;\">\n",
              "      <th></th>\n",
              "      <th>idx_test</th>\n",
              "      <th>path_img</th>\n",
              "    </tr>\n",
              "  </thead>\n",
              "  <tbody>\n",
              "    <tr>\n",
              "      <th>0</th>\n",
              "      <td>0</td>\n",
              "      <td>all_imgs/ec4c75ba-e064-4ed0-a7b1-3ed899424110....</td>\n",
              "    </tr>\n",
              "    <tr>\n",
              "      <th>1</th>\n",
              "      <td>1</td>\n",
              "      <td>all_imgs/114fb94d-3223-4d95-b6d1-f6a6ac206ea2....</td>\n",
              "    </tr>\n",
              "    <tr>\n",
              "      <th>2</th>\n",
              "      <td>2</td>\n",
              "      <td>all_imgs/a80e7e27-a25a-40aa-a65c-a29bfa172b3d....</td>\n",
              "    </tr>\n",
              "    <tr>\n",
              "      <th>3</th>\n",
              "      <td>3</td>\n",
              "      <td>all_imgs/7848d24e-207a-4236-9cd7-df78122d8787....</td>\n",
              "    </tr>\n",
              "    <tr>\n",
              "      <th>4</th>\n",
              "      <td>4</td>\n",
              "      <td>all_imgs/57f726bc-d141-42fb-88fa-60d554499277....</td>\n",
              "    </tr>\n",
              "  </tbody>\n",
              "</table>\n",
              "</div>"
            ],
            "text/plain": [
              "   idx_test                                           path_img\n",
              "0         0  all_imgs/ec4c75ba-e064-4ed0-a7b1-3ed899424110....\n",
              "1         1  all_imgs/114fb94d-3223-4d95-b6d1-f6a6ac206ea2....\n",
              "2         2  all_imgs/a80e7e27-a25a-40aa-a65c-a29bfa172b3d....\n",
              "3         3  all_imgs/7848d24e-207a-4236-9cd7-df78122d8787....\n",
              "4         4  all_imgs/57f726bc-d141-42fb-88fa-60d554499277...."
            ]
          },
          "execution_count": 7,
          "metadata": {},
          "output_type": "execute_result"
        }
      ],
      "source": [
        "test = pd.read_csv(\"test.csv\")\n",
        "test.head()"
      ]
    },
    {
      "cell_type": "code",
      "execution_count": 8,
      "metadata": {},
      "outputs": [
        {
          "data": {
            "text/plain": [
              "Index(['idx_test', 'path_img'], dtype='object')"
            ]
          },
          "execution_count": 8,
          "metadata": {},
          "output_type": "execute_result"
        }
      ],
      "source": [
        "test.columns"
      ]
    },
    {
      "cell_type": "code",
      "execution_count": 9,
      "metadata": {
        "colab": {
          "base_uri": "https://localhost:8080/"
        },
        "id": "dIFc45iRrNxY",
        "outputId": "36a20acc-cdf0-4a7e-f475-7d8439e1ea87"
      },
      "outputs": [
        {
          "name": "stdout",
          "output_type": "stream",
          "text": [
            "<class 'pandas.core.frame.DataFrame'>\n",
            "RangeIndex: 11189 entries, 0 to 11188\n",
            "Data columns (total 3 columns):\n",
            " #   Column     Non-Null Count  Dtype \n",
            "---  ------     --------------  ----- \n",
            " 0   idx_train  11189 non-null  int64 \n",
            " 1   path_img   11189 non-null  object\n",
            " 2   label      11189 non-null  int64 \n",
            "dtypes: int64(2), object(1)\n",
            "memory usage: 262.4+ KB\n"
          ]
        }
      ],
      "source": [
        "train.info() "
      ]
    },
    {
      "cell_type": "code",
      "execution_count": 10,
      "metadata": {
        "colab": {
          "base_uri": "https://localhost:8080/",
          "height": 300
        },
        "id": "poxNu2SqrPwu",
        "outputId": "df11073d-e9be-4056-82ec-a3a8a66589ec"
      },
      "outputs": [
        {
          "data": {
            "text/html": [
              "<div>\n",
              "<style scoped>\n",
              "    .dataframe tbody tr th:only-of-type {\n",
              "        vertical-align: middle;\n",
              "    }\n",
              "\n",
              "    .dataframe tbody tr th {\n",
              "        vertical-align: top;\n",
              "    }\n",
              "\n",
              "    .dataframe thead th {\n",
              "        text-align: right;\n",
              "    }\n",
              "</style>\n",
              "<table border=\"1\" class=\"dataframe\">\n",
              "  <thead>\n",
              "    <tr style=\"text-align: right;\">\n",
              "      <th></th>\n",
              "      <th>idx_train</th>\n",
              "      <th>label</th>\n",
              "    </tr>\n",
              "  </thead>\n",
              "  <tbody>\n",
              "    <tr>\n",
              "      <th>count</th>\n",
              "      <td>11189.000000</td>\n",
              "      <td>11189.000000</td>\n",
              "    </tr>\n",
              "    <tr>\n",
              "      <th>mean</th>\n",
              "      <td>5594.000000</td>\n",
              "      <td>3.499866</td>\n",
              "    </tr>\n",
              "    <tr>\n",
              "      <th>std</th>\n",
              "      <td>3230.130415</td>\n",
              "      <td>2.296047</td>\n",
              "    </tr>\n",
              "    <tr>\n",
              "      <th>min</th>\n",
              "      <td>0.000000</td>\n",
              "      <td>0.000000</td>\n",
              "    </tr>\n",
              "    <tr>\n",
              "      <th>25%</th>\n",
              "      <td>2797.000000</td>\n",
              "      <td>1.000000</td>\n",
              "    </tr>\n",
              "    <tr>\n",
              "      <th>50%</th>\n",
              "      <td>5594.000000</td>\n",
              "      <td>3.000000</td>\n",
              "    </tr>\n",
              "    <tr>\n",
              "      <th>75%</th>\n",
              "      <td>8391.000000</td>\n",
              "      <td>6.000000</td>\n",
              "    </tr>\n",
              "    <tr>\n",
              "      <th>max</th>\n",
              "      <td>11188.000000</td>\n",
              "      <td>7.000000</td>\n",
              "    </tr>\n",
              "  </tbody>\n",
              "</table>\n",
              "</div>"
            ],
            "text/plain": [
              "          idx_train         label\n",
              "count  11189.000000  11189.000000\n",
              "mean    5594.000000      3.499866\n",
              "std     3230.130415      2.296047\n",
              "min        0.000000      0.000000\n",
              "25%     2797.000000      1.000000\n",
              "50%     5594.000000      3.000000\n",
              "75%     8391.000000      6.000000\n",
              "max    11188.000000      7.000000"
            ]
          },
          "execution_count": 10,
          "metadata": {},
          "output_type": "execute_result"
        }
      ],
      "source": [
        "train.describe()"
      ]
    },
    {
      "cell_type": "code",
      "execution_count": 11,
      "metadata": {
        "colab": {
          "base_uri": "https://localhost:8080/"
        },
        "id": "CX_Q457drQ1m",
        "outputId": "169b9844-2ea7-42b4-8d56-230a5373208e"
      },
      "outputs": [
        {
          "data": {
            "text/plain": [
              "idx_train    0\n",
              "path_img     0\n",
              "label        0\n",
              "dtype: int64"
            ]
          },
          "execution_count": 11,
          "metadata": {},
          "output_type": "execute_result"
        }
      ],
      "source": [
        "train.isna().sum()"
      ]
    },
    {
      "cell_type": "code",
      "execution_count": 12,
      "metadata": {
        "colab": {
          "base_uri": "https://localhost:8080/"
        },
        "id": "KdIFgM_SrSdG",
        "outputId": "8601b328-771a-4455-f0f0-fd4674675367"
      },
      "outputs": [
        {
          "data": {
            "text/plain": [
              "idx_test    0\n",
              "path_img    0\n",
              "dtype: int64"
            ]
          },
          "execution_count": 12,
          "metadata": {},
          "output_type": "execute_result"
        }
      ],
      "source": [
        "test.isna().sum()"
      ]
    },
    {
      "cell_type": "code",
      "execution_count": 13,
      "metadata": {
        "colab": {
          "base_uri": "https://localhost:8080/",
          "height": 36
        },
        "id": "dxR7zAYYrtgk",
        "outputId": "215c70db-2fea-49f4-d300-6be8a350f7e8"
      },
      "outputs": [
        {
          "data": {
            "text/plain": [
              "'all_imgs/bc7696f4-1460-4d0b-a63d-f84b3be4da0f.jpeg'"
            ]
          },
          "execution_count": 13,
          "metadata": {},
          "output_type": "execute_result"
        }
      ],
      "source": [
        "train[\"path_img\"][0]"
      ]
    },
    {
      "cell_type": "code",
      "execution_count": 14,
      "metadata": {
        "id": "WvAK0kBAs5rW"
      },
      "outputs": [],
      "source": [
        "base_dir = \"./\""
      ]
    },
    {
      "cell_type": "code",
      "execution_count": 15,
      "metadata": {
        "colab": {
          "base_uri": "https://localhost:8080/",
          "height": 260
        },
        "id": "w-W_QB7erUm2",
        "outputId": "c948ab67-faec-40f3-e974-229344da896d"
      },
      "outputs": [
        {
          "data": {
            "image/png": "[encoded data removed]",
            "text/plain": [
              "<Figure size 640x480 with 1 Axes>"
            ]
          },
          "metadata": {},
          "output_type": "display_data"
        }
      ],
      "source": [
        "plt.imshow(load_img(os.path.join(base_dir, train[\"path_img\"][0])))\n",
        "plt.grid(False)\n",
        "plt.show()"
      ]
    },
    {
      "cell_type": "code",
      "execution_count": 16,
      "metadata": {
        "colab": {
          "base_uri": "https://localhost:8080/"
        },
        "id": "T7OzdaWCQkxs",
        "outputId": "97d6a00e-5ea7-4eb4-b637-cc5dc33a1f8d"
      },
      "outputs": [
        {
          "data": {
            "text/plain": [
              "1    1431\n",
              "6    1407\n",
              "7    1404\n",
              "5    1402\n",
              "0    1396\n",
              "3    1395\n",
              "4    1378\n",
              "2    1376\n",
              "Name: label, dtype: int64"
            ]
          },
          "execution_count": 16,
          "metadata": {},
          "output_type": "execute_result"
        }
      ],
      "source": [
        "train[\"label\"].value_counts()"
      ]
    },
    {
      "cell_type": "code",
      "execution_count": 17,
      "metadata": {
        "colab": {
          "base_uri": "https://localhost:8080/"
        },
        "id": "V-uzJKE_Qkt_",
        "outputId": "50c15ae6-56b0-4183-9d37-94f1b96cdcd9"
      },
      "outputs": [],
      "source": [
        "# test[\"label\"].value_counts()"
      ]
    },
    {
      "cell_type": "code",
      "execution_count": 18,
      "metadata": {
        "id": "VcSsrTnnJM1R"
      },
      "outputs": [],
      "source": [
        "# Define the number of classes\n",
        "num_classes = train[\"label\"].nunique()\n",
        "\n",
        "# Define the target_size\n",
        "target_size = (224, 224)\n",
        "\n",
        "# Define the batch size\n",
        "batch_size = 64\n",
        "\n",
        "# Define the input shape\n",
        "input_shape = (224, 224, 3)"
      ]
    },
    {
      "cell_type": "code",
      "execution_count": 19,
      "metadata": {
        "colab": {
          "base_uri": "https://localhost:8080/"
        },
        "id": "6j_4veM07svl",
        "outputId": "4b6ac622-0fb4-416b-b34e-ba0d591095d4"
      },
      "outputs": [
        {
          "data": {
            "text/plain": [
              "8"
            ]
          },
          "execution_count": 19,
          "metadata": {},
          "output_type": "execute_result"
        }
      ],
      "source": [
        "num_classes"
      ]
    },
    {
      "cell_type": "code",
      "execution_count": 20,
      "metadata": {
        "id": "Yi9TsfYL_APc"
      },
      "outputs": [],
      "source": [
        "train['label'] = train['label'].apply(lambda x: str(x)) \n",
        "# test['label'] = test['label'].apply(lambda x: str(x)) "
      ]
    },
    {
      "cell_type": "code",
      "execution_count": 21,
      "metadata": {
        "colab": {
          "base_uri": "https://localhost:8080/"
        },
        "id": "weoT9Z8HCqgF",
        "outputId": "50e9410b-a7a4-4aab-8c55-c40b8d87cbd1"
      },
      "outputs": [
        {
          "name": "stdout",
          "output_type": "stream",
          "text": [
            "(183, 275, 3)\n"
          ]
        }
      ],
      "source": [
        "img = cv2.imread(train[\"path_img\"][6])\n",
        "\n",
        "# Print the shape of the image\n",
        "print(img.shape)"
      ]
    },
    {
      "cell_type": "markdown",
      "metadata": {
        "id": "XDmg1MrKtsP4"
      },
      "source": [
        "Create validation dataset (option 1)"
      ]
    },
    {
      "cell_type": "code",
      "execution_count": 22,
      "metadata": {
        "id": "FtrXHbmU9N19"
      },
      "outputs": [],
      "source": [
        "# # Split the dataset into training and validation sets\n",
        "# train_df, val_df = train_test_split(train, test_size=0.2, random_state=42)\n",
        "# total_train = train_df.shape[0]\n",
        "# total_validate = val_df.shape[0]\n",
        "# total_test = test.shape[0]"
      ]
    },
    {
      "cell_type": "code",
      "execution_count": 23,
      "metadata": {
        "id": "YmX2NhrWbVwE"
      },
      "outputs": [],
      "source": [
        "# train_steps = int(total_train / batch_size)\n",
        "# validation_steps = int(total_validate / batch_size)\n",
        "# test_steps = int(total_test / batch_size)"
      ]
    },
    {
      "cell_type": "code",
      "execution_count": 24,
      "metadata": {
        "id": "oD2YNzto8Gvo"
      },
      "outputs": [],
      "source": [
        "# # Create ImageDataGenerator objects for training and validation sets\n",
        "# train_datagen = ImageDataGenerator(rescale=1.0/255.,\n",
        "#                                      rotation_range=0.1,\n",
        "#                                      width_shift_range=0.1,\n",
        "#                                      height_shift_range=0.1,\n",
        "#                                      shear_range=0.1,\n",
        "#                                      zoom_range=0.1,\n",
        "#                                      horizontal_flip=False,\n",
        "#                                      fill_mode=\"nearest\")\n",
        "# val_datagen = ImageDataGenerator(rescale=1./255)\n",
        "# test_datagen = ImageDataGenerator(rescale=1./255)"
      ]
    },
    {
      "cell_type": "code",
      "execution_count": 25,
      "metadata": {
        "colab": {
          "base_uri": "https://localhost:8080/"
        },
        "id": "JHEY_Zxa8GtL",
        "outputId": "91315120-d2fc-45f2-a7d3-a1a9429636b8"
      },
      "outputs": [],
      "source": [
        "# train_generator = train_datagen.flow_from_dataframe(\n",
        "#     dataframe=train_df,\n",
        "#     color_mode=\"rgb\",\n",
        "#     x_col='path_img', # Column containing the image file paths\n",
        "#     y_col='label', # Column containing the image labels\n",
        "#     target_size=target_size, # Size of input images\n",
        "#     batch_size=batch_size,\n",
        "#     class_mode='sparse', # Use categorical cross-entropy loss\n",
        "#     shuffle=False # Shuffle the order of images\n",
        "# )\n",
        "\n",
        "# val_generator = val_datagen.flow_from_dataframe(\n",
        "#     dataframe=val_df,\n",
        "#     color_mode=\"rgb\",\n",
        "#     x_col='path_img',\n",
        "#     y_col='label',\n",
        "#     target_size=target_size,\n",
        "#     batch_size=batch_size,\n",
        "#     class_mode='sparse',\n",
        "#     shuffle=False # Don't shuffle the order of images\n",
        "# )\n",
        "\n",
        "# test_generator = test_datagen.flow_from_dataframe(\n",
        "#     dataframe=test,\n",
        "#     color_mode=\"rgb\",\n",
        "#     x_col='path_img',\n",
        "#     y_col='label',\n",
        "#     target_size=target_size,\n",
        "#     batch_size=batch_size,\n",
        "#     class_mode='sparse',\n",
        "#     shuffle=False # Don't shuffle the order of images\n",
        "# )"
      ]
    },
    {
      "cell_type": "markdown",
      "metadata": {
        "id": "g-H35DVxtw89"
      },
      "source": [
        "Full dataset (option 2)"
      ]
    },
    {
      "cell_type": "code",
      "execution_count": 26,
      "metadata": {
        "id": "WPwYToGQt0sF"
      },
      "outputs": [],
      "source": [
        "total_train = train.shape[0]\n",
        "total_validate = test.shape[0]"
      ]
    },
    {
      "cell_type": "code",
      "execution_count": 27,
      "metadata": {
        "id": "AQaeFpLjbBoe"
      },
      "outputs": [],
      "source": [
        "train_steps = int(total_train / batch_size)\n",
        "validation_steps = int(total_validate / batch_size)"
      ]
    },
    {
      "cell_type": "code",
      "execution_count": 28,
      "metadata": {
        "id": "yWWWljkmt0mr"
      },
      "outputs": [],
      "source": [
        "train_datagen = ImageDataGenerator(rescale=1./255)\n",
        "test_datagen = ImageDataGenerator(rescale=1./255)"
      ]
    },
    {
      "cell_type": "code",
      "execution_count": 29,
      "metadata": {
        "colab": {
          "base_uri": "https://localhost:8080/"
        },
        "id": "ha44rwWgt0b1",
        "outputId": "33def7e4-6284-4ace-f7ee-a670a17ec71c"
      },
      "outputs": [
        {
          "name": "stdout",
          "output_type": "stream",
          "text": [
            "Found 11189 validated image filenames belonging to 8 classes.\n",
            "Found 4797 validated image filenames.\n"
          ]
        }
      ],
      "source": [
        "train_generator = train_datagen.flow_from_dataframe(\n",
        "    dataframe=train,\n",
        "    color_mode=\"rgb\",\n",
        "    x_col='path_img', # Column containing the image file paths\n",
        "    y_col='label', # Column containing the image labels\n",
        "    target_size=target_size, # Size of input images\n",
        "    batch_size=32,\n",
        "    class_mode='sparse', # Use categorical cross-entropy loss\n",
        "    shuffle=True, # Shuffle the order of images\n",
        "    )\n",
        "\n",
        "val_generator = test_datagen.flow_from_dataframe(\n",
        "    dataframe=test,\n",
        "    color_mode=\"rgb\",\n",
        "    x_col='path_img',\n",
        "    y_col='label',\n",
        "    target_size=target_size,\n",
        "    batch_size=32,\n",
        "    class_mode=None,\n",
        "    shuffle=False, # Don't shuffle the order of images\n",
        ")"
      ]
    },
    {
      "cell_type": "markdown",
      "metadata": {
        "id": "NEMaaZjn8Hbg"
      },
      "source": [
        "Model"
      ]
    },
    {
      "cell_type": "code",
      "execution_count": 30,
      "metadata": {
        "id": "TG8xG_UJ8GiB"
      },
      "outputs": [],
      "source": [
        "# def f1_score(y_true, y_pred):\n",
        "#     y_pred = tf.round(tf.keras.backend.clip(y_pred, 0, 1))\n",
        "#     tp = tf.reduce_sum(tf.cast(y_true*y_pred, tf.float32), axis=0)\n",
        "#     fp = tf.reduce_sum(tf.cast((1-y_true)*y_pred, tf.float32), axis=0)\n",
        "#     fn = tf.reduce_sum(tf.cast(y_true*(1-y_pred), tf.float32), axis=0)\n",
        "#     precision = tp / (tp + fp + tf.keras.backend.epsilon())\n",
        "#     recall = tp / (tp + fn + tf.keras.backend.epsilon())\n",
        "#     f1 = 2 * precision * recall / (precision + recall + tf.keras.backend.epsilon())\n",
        "#     f1_macro = tf.reduce_mean(f1)\n",
        "\n",
        "#     return f1_macro"
      ]
    },
    {
      "cell_type": "code",
      "execution_count": 31,
      "metadata": {
        "id": "DVLUpwlU8Gp0"
      },
      "outputs": [],
      "source": [
        "# # Callbacks for f1-score\n",
        "# class myCallback(tf.keras.callbacks.Callback):\n",
        "#     def on_epoch_end(self, epoch, logs={}):\n",
        "#         if(logs.get('loss') < 0.4 and logs.get('f1_score') > 0.99):\n",
        "#             print('\\nLoss is low and F1-score is high, so cancelling training!')\n",
        "#             self.model.stop_training = True\n",
        "\n",
        "# early_stop = EarlyStopping(monitor='f1_score', mode='max', patience=5, verbose=1)\n",
        "# lr_reduce = ReduceLROnPlateau(monitor='f1_score', mode='max', factor=0.1, patience=2, verbose=1, min_lr=0.00001)\n",
        "# model_checkpoint = ModelCheckpoint('best_model.h5', monitor='f1_score', mode='max', save_best_only=True, verbose=1)\n",
        "# tensorboard_callback = TensorBoard(log_dir='./logs', histogram_freq=1)"
      ]
    },
    {
      "cell_type": "code",
      "execution_count": 32,
      "metadata": {
        "id": "GY7REhysZ9hW"
      },
      "outputs": [],
      "source": [
        "# # Callbacks for sparse categorical accuracy\n",
        "# class myCallback(tf.keras.callbacks.Callback):\n",
        "#     def on_epoch_end(self, epoch, logs={}):\n",
        "#         if(logs.get('loss') < 0.4 and logs.get('sparse_categorical_accuracy') > 0.99):\n",
        "#             print('\\nLoss is low and sparse accuracy is high, so cancelling training!')\n",
        "#             self.model.stop_training = True\n",
        "\n",
        "# early_stop = EarlyStopping(monitor='sparse_categorical_accuracy', mode='max', patience=5, verbose=1)\n",
        "# lr_reduce = ReduceLROnPlateau(monitor='sparse_categorical_accuracy', mode='max', factor=0.1, patience=2, verbose=1, min_lr=0.00001)\n",
        "# model_checkpoint = ModelCheckpoint('best_model.h5', monitor='sparse_categorical_accuracy', mode='max', save_best_only=True, verbose=1)\n",
        "# tensorboard_callback = TensorBoard(log_dir='./logs', histogram_freq=1)"
      ]
    },
    {
      "cell_type": "code",
      "execution_count": 33,
      "metadata": {
        "id": "sIkTt99HRtA8"
      },
      "outputs": [],
      "source": [
        "# Callbacks for accuracy\n",
        "class AccCallback(tf.keras.callbacks.Callback):\n",
        "    def on_epoch_end(self, epoch, logs={}):\n",
        "        if(logs.get('loss') < 0.4 and logs.get('accuracy') > 0.99):\n",
        "            print('\\nLoss is low and accuracy is high, so cancelling training!')\n",
        "            self.model.stop_training = True\n",
        "\n",
        "early_stop = EarlyStopping(monitor='accuracy', mode='max', patience=5, verbose=1)\n",
        "lr_reduce = ReduceLROnPlateau(monitor='accuracy', mode='max', factor=0.1, patience=2, verbose=1, min_lr=0.00001)\n",
        "model_checkpoint = ModelCheckpoint('best_model.h5', monitor='accuracy', mode='max', save_best_only=True, verbose=1)\n",
        "tensorboard_callback = TensorBoard(log_dir='./logs', histogram_freq=1)"
      ]
    },
    {
      "cell_type": "code",
      "execution_count": 34,
      "metadata": {
        "id": "eFbzUp1grZJB"
      },
      "outputs": [],
      "source": [
        "model = Sequential([\n",
        "    \n",
        "# First block\n",
        "                 Conv2D(filters = 16, kernel_size = (3, 3), activation='relu', input_shape = input_shape),\n",
        "                 BatchNormalization(),\n",
        "                 Conv2D(filters = 16, kernel_size = (3, 3), activation='relu'),\n",
        "                 BatchNormalization(),\n",
        "                 MaxPool2D(strides=(2,2)),\n",
        "                 Dropout(0.25),\n",
        "\n",
        "# Second block\n",
        "                 Conv2D(filters = 32, kernel_size = (3, 3), activation='relu'),\n",
        "                 BatchNormalization(),\n",
        "                 Conv2D(filters = 32, kernel_size = (3, 3), activation='relu'),\n",
        "                 BatchNormalization(),\n",
        "                 MaxPool2D(strides=(2,2)),\n",
        "                 Dropout(0.25),\n",
        "\n",
        "# Third block \n",
        "                 Flatten(),\n",
        "                 Dense(512, activation='relu'),\n",
        "                 Dropout(0.25),\n",
        "\n",
        "# Fourth block\n",
        "                 Dense(1024, activation='relu'),\n",
        "                 Dropout(0.4),\n",
        "                 Dense(num_classes, activation='softmax')\n",
        "])"
      ]
    },
    {
      "cell_type": "code",
      "execution_count": 35,
      "metadata": {
        "id": "9JHwIPUblEFV"
      },
      "outputs": [],
      "source": [
        "# # Model talent squuad\n",
        "# model = tf.keras.models.Sequential([\n",
        "#     tf.keras.layers.Conv2D(16, (3,3), activation=\"relu\", input_shape=input_shape),\n",
        "#     tf.keras.layers.MaxPooling2D(2,2),\n",
        "#     tf.keras.layers.Conv2D(32, (3,3), activation=\"relu\"),\n",
        "#     tf.keras.layers.MaxPooling2D(2,2), \n",
        "#     tf.keras.layers.Flatten(), \n",
        "#     tf.keras.layers.Dropout(0.5),\n",
        "#     tf.keras.layers.Dense(128, activation=\"relu\"), \n",
        "#     tf.keras.layers.Dense(num_classes, activation=\"softmax\")  \n",
        "# ])"
      ]
    },
    {
      "cell_type": "code",
      "execution_count": 36,
      "metadata": {
        "id": "fxxo5xBNlm0V"
      },
      "outputs": [],
      "source": [
        "# # Model zero deforestation mission\n",
        "# model = Sequential()\n",
        "\n",
        "# model.add(Conv2D(32, (3, 3), activation=\"relu\", input_shape=input_shape))\n",
        "# model.add(BatchNormalization())\n",
        "# model.add(MaxPooling2D(pool_size=(2, 2)))\n",
        "# model.add(Dropout(0.25))\n",
        "\n",
        "# model.add(Conv2D(64, (3, 3), activation=\"relu\"))\n",
        "# model.add(BatchNormalization())\n",
        "# model.add(MaxPooling2D(pool_size=(2, 2)))\n",
        "# model.add(Dropout(0.25))\n",
        "\n",
        "# model.add(Conv2D(128, (3, 3), activation=\"relu\"))\n",
        "# model.add(BatchNormalization())\n",
        "# model.add(MaxPooling2D(pool_size=(2, 2)))\n",
        "# model.add(Dropout(0.25))\n",
        "\n",
        "# model.add(Flatten())\n",
        "# model.add(Dense(512, activation=\"relu\"))\n",
        "# model.add(BatchNormalization())\n",
        "# model.add(Dropout(0.5))\n",
        "# model.add(Dense(num_classes, activation=\"softmax\")) "
      ]
    },
    {
      "cell_type": "code",
      "execution_count": 37,
      "metadata": {},
      "outputs": [
        {
          "name": "stdout",
          "output_type": "stream",
          "text": [
            "Model: \"sequential\"\n",
            "_________________________________________________________________\n",
            " Layer (type)                Output Shape              Param #   \n",
            "=================================================================\n",
            " conv2d (Conv2D)             (None, 222, 222, 16)      448       \n",
            "                                                                 \n",
            " batch_normalization (BatchN  (None, 222, 222, 16)     64        \n",
            " ormalization)                                                   \n",
            "                                                                 \n",
            " conv2d_1 (Conv2D)           (None, 220, 220, 16)      2320      \n",
            "                                                                 \n",
            " batch_normalization_1 (Batc  (None, 220, 220, 16)     64        \n",
            " hNormalization)                                                 \n",
            "                                                                 \n",
            " max_pooling2d (MaxPooling2D  (None, 110, 110, 16)     0         \n",
            " )                                                               \n",
            "                                                                 \n",
            " dropout (Dropout)           (None, 110, 110, 16)      0         \n",
            "                                                                 \n",
            " conv2d_2 (Conv2D)           (None, 108, 108, 32)      4640      \n",
            "                                                                 \n",
            " batch_normalization_2 (Batc  (None, 108, 108, 32)     128       \n",
            " hNormalization)                                                 \n",
            "                                                                 \n",
            " conv2d_3 (Conv2D)           (None, 106, 106, 32)      9248      \n",
            "                                                                 \n",
            " batch_normalization_3 (Batc  (None, 106, 106, 32)     128       \n",
            " hNormalization)                                                 \n",
            "                                                                 \n",
            " max_pooling2d_1 (MaxPooling  (None, 53, 53, 32)       0         \n",
            " 2D)                                                             \n",
            "                                                                 \n",
            " dropout_1 (Dropout)         (None, 53, 53, 32)        0         \n",
            "                                                                 \n",
            " flatten (Flatten)           (None, 89888)             0         \n",
            "                                                                 \n",
            " dense (Dense)               (None, 512)               46023168  \n",
            "                                                                 \n",
            " dropout_2 (Dropout)         (None, 512)               0         \n",
            "                                                                 \n",
            " dense_1 (Dense)             (None, 1024)              525312    \n",
            "                                                                 \n",
            " dropout_3 (Dropout)         (None, 1024)              0         \n",
            "                                                                 \n",
            " dense_2 (Dense)             (None, 8)                 8200      \n",
            "                                                                 \n",
            "=================================================================\n",
            "Total params: 46,573,720\n",
            "Trainable params: 46,573,528\n",
            "Non-trainable params: 192\n",
            "_________________________________________________________________\n"
          ]
        }
      ],
      "source": [
        "model.summary()"
      ]
    },
    {
      "cell_type": "code",
      "execution_count": 38,
      "metadata": {
        "id": "hqAEcmPGlVfP"
      },
      "outputs": [],
      "source": [
        "# epochs = 90\n",
        "# batch_size = 10\n",
        "# train_steps = int(train_length_2 / batch_size)\n",
        "# validation_steps = int(val_length / batch_size)"
      ]
    },
    {
      "cell_type": "code",
      "execution_count": 39,
      "metadata": {
        "colab": {
          "base_uri": "https://localhost:8080/",
          "height": 148
        },
        "id": "HH6FPNGnrZGk",
        "outputId": "e412a28b-d87c-4301-df96-ac63cd13d2f2"
      },
      "outputs": [
        {
          "name": "stdout",
          "output_type": "stream",
          "text": [
            "Epoch 1/20\n"
          ]
        },
        {
          "ename": "",
          "evalue": "",
          "output_type": "error",
          "traceback": [
            "\u001b[1;31mCanceled future for execute_request message before replies were done"
          ]
        },
        {
          "ename": "",
          "evalue": "",
          "output_type": "error",
          "traceback": [
            "\u001b[1;31mEl Kernel se bloqueó al ejecutar código en la celda actual o en una celda anterior. Revise el código de las celdas para identificar una posible causa del error. Haga clic <a href='https://aka.ms/vscodeJupyterKernelCrash'>aquí</a> para obtener más información. Vea el [registro] de Jupyter (command:jupyter.viewOutput) para obtener más detalles."
          ]
        }
      ],
      "source": [
        "%%time\n",
        "# Compile the model with the custom F1-score metric\n",
        "# model.compile(optimizer=\"adam\", loss=\"sparse_categorical_crossentropy\", metrics=[f1_score])\n",
        "\n",
        "# Compile the model with the custom sparse_categorical_crossentropy metric\n",
        "# model.compile(optimizer=\"adam\", loss=\"sparse_categorical_crossentropy\", metrics=[\"sparse_categorical_accuracy\"])\n",
        "\n",
        "# Compile the model with the accuracy metric\n",
        "model.compile(optimizer=\"adam\", loss=\"sparse_categorical_crossentropy\", metrics=[\"accuracy\"])\n",
        "\n",
        "# Define the callbacks\n",
        "callbacks = [myCallback()]\n",
        "\n",
        "# Train the model and save the training history\n",
        "history = model.fit(train_generator,\n",
        "                    epochs=20,\n",
        "                    validation_data=val_generator,\n",
        "                    validation_steps=validation_steps,\n",
        "                    steps_per_epoch=train_steps,\n",
        "                    callbacks=callbacks)"
      ]
    },
    {
      "cell_type": "code",
      "execution_count": null,
      "metadata": {},
      "outputs": [],
      "source": []
    },
    {
      "cell_type": "code",
      "execution_count": null,
      "metadata": {
        "id": "zNZ-u5xxrZEF"
      },
      "outputs": [],
      "source": [
        "model.summary()"
      ]
    },
    {
      "cell_type": "code",
      "execution_count": null,
      "metadata": {
        "id": "TbU2VBRMrZBm"
      },
      "outputs": [],
      "source": [
        "probability_model = tf.keras.Sequential([model, \n",
        "                                         tf.keras.layers.Softmax()])\n",
        "\n",
        "preds = probability_model.predict(test_generator)"
      ]
    },
    {
      "cell_type": "code",
      "execution_count": null,
      "metadata": {
        "id": "9aIxiUSY6cpm"
      },
      "outputs": [],
      "source": []
    },
    {
      "cell_type": "code",
      "execution_count": null,
      "metadata": {
        "id": "Bqp7EGWNrY_S"
      },
      "outputs": [],
      "source": [
        "preds"
      ]
    },
    {
      "cell_type": "code",
      "execution_count": null,
      "metadata": {
        "id": "Ec-2OZ1TrY8n"
      },
      "outputs": [],
      "source": [
        "predicted_classes = preds.argmax(axis=1)\n",
        "predicted_classes"
      ]
    },
    {
      "cell_type": "code",
      "execution_count": null,
      "metadata": {
        "id": "Gp9dYqdirY2h"
      },
      "outputs": [],
      "source": []
    },
    {
      "cell_type": "markdown",
      "metadata": {
        "id": "YHQ0SUfUE8wJ"
      },
      "source": [
        "Model Evaluation"
      ]
    },
    {
      "cell_type": "code",
      "execution_count": null,
      "metadata": {
        "id": "RKWeRg9urY5k"
      },
      "outputs": [],
      "source": [
        "def cm_cr(test_gen, model):\n",
        "    preds=model.predict(test_gen)    \n",
        "    labels=test_gen.labels\n",
        "    classes=list(test_gen.class_indices.keys()) \n",
        "    pred_list=[ ] \n",
        "    true_list=[]\n",
        "    for i, p in enumerate(preds):\n",
        "        index=np.argmax(p)\n",
        "        pred_list.append(classes[index])\n",
        "        true_list.append(classes[labels[i]])\n",
        "    y_pred=np.array(pred_list)\n",
        "    y_true=np.array(true_list)\n",
        "    clr = metrics.classification_report(y_true, y_pred, target_names=classes)\n",
        "    print(\"Classification Report:\\n----------------------\\n\", clr)\n",
        "    cm = metrics.confusion_matrix(y_true, y_pred )        \n",
        "    length=len(classes)\n",
        "    if length<8:\n",
        "        fig_width=8\n",
        "        fig_height=8\n",
        "    else:\n",
        "        fig_width= int(length * .5)\n",
        "        fig_height= int(length * .5)\n",
        "    plt.figure(figsize=(fig_width, fig_height))\n",
        "    sns.heatmap(cm, annot=True, vmin=0, fmt=\"g\", cmap=\"Blues\", cbar=False)       \n",
        "    plt.xticks(np.arange(length)+.5, classes, rotation= 90, fontsize=16)\n",
        "    plt.yticks(np.arange(length)+.5, classes, rotation=0, fontsize=16)\n",
        "    plt.xlabel(\"Predicted\")\n",
        "    plt.ylabel(\"Actual\")\n",
        "    plt.title(\"Confusion Matrix\")\n",
        "    plt.show()"
      ]
    },
    {
      "cell_type": "code",
      "execution_count": null,
      "metadata": {
        "id": "CHNj1LhIE_gW"
      },
      "outputs": [],
      "source": [
        "# Obtener las métricas de entrenamiento y validación\n",
        "loss = history.history[\"loss\"]\n",
        "val_loss = history.history[\"val_loss\"]\n",
        "f1 = history.history[\"f1_score\"]\n",
        "val_f1 = history.history[\"val_f1_score\"]\n",
        "\n",
        "# Graficar la F1-score y la val_f1-score del modelo\n",
        "plt.plot(f1)\n",
        "plt.plot(val_f1)\n",
        "plt.title(\"Model's F1-score\")\n",
        "plt.ylabel(\"F1-score\")\n",
        "plt.xlabel(\"Epoch\")\n",
        "plt.legend([\"F1-score\", \"Val_F1-score\"], loc=\"upper left\")\n",
        "plt.show()\n",
        "\n",
        "# Graficar la pérdida del modelo\n",
        "plt.plot(loss)\n",
        "plt.plot(val_loss)\n",
        "plt.title(\"Model's Loss\")\n",
        "plt.ylabel(\"Loss\")\n",
        "plt.xlabel(\"Epoch\")\n",
        "plt.legend([\"Loss\", \"Val_loss\"], loc=\"upper left\")\n",
        "plt.show()"
      ]
    },
    {
      "cell_type": "code",
      "execution_count": null,
      "metadata": {
        "id": "7bo0vi2mfcaM"
      },
      "outputs": [],
      "source": [
        "# Obtener las métricas de entrenamiento, validación y prueba\n",
        "loss = history.history[\"loss\"]\n",
        "val_loss = history.history[\"val_loss\"]\n",
        "f1 = history.history[\"f1_score\"]\n",
        "val_f1 = history.history[\"val_f1_score\"]\n",
        "test_loss, test_f1 = model.evaluate(test_generator)\n",
        "\n",
        "# Graficar la F1-score y la val_f1-score del modelo\n",
        "plt.plot(f1)\n",
        "plt.plot(val_f1)\n",
        "plt.plot(test_f1)\n",
        "plt.title(\"Model's F1-score\")\n",
        "plt.ylabel(\"F1-score\")\n",
        "plt.xlabel(\"Epoch\")\n",
        "plt.legend([\"F1-score\", \"Val_F1-score\", \"Test_F1-score\"], loc=\"upper left\")\n",
        "plt.show()\n",
        "\n",
        "# Graficar la pérdida del modelo\n",
        "plt.plot(loss)\n",
        "plt.plot(val_loss)\n",
        "plt.plot(test_loss)\n",
        "plt.title(\"Model's Loss\")\n",
        "plt.ylabel(\"Loss\")\n",
        "plt.xlabel(\"Epoch\")\n",
        "plt.legend([\"Loss\", \"Val_loss\", \"Test_loss\"], loc=\"upper left\")\n",
        "plt.show()"
      ]
    },
    {
      "cell_type": "code",
      "execution_count": null,
      "metadata": {
        "id": "QQ8nFkiVfcYd"
      },
      "outputs": [],
      "source": [
        "# Generate predictions for test set\n",
        "test_pred_prob = model.predict(test_generator)\n",
        "\n",
        "# Convert probabilities to class labels\n",
        "test_pred_labels = np.argmax(test_pred_prob, axis=1)\n",
        "\n",
        "# Get true labels from test generator\n",
        "test_true_labels = test_generator.classes\n",
        "\n",
        "# Compute test F1-score\n",
        "test_f1_score = f1_score(test_true_labels, test_pred_labels, average='weighted')\n",
        "\n",
        "# Print test F1-score\n",
        "print('Test F1-score:', test_f1_score)"
      ]
    },
    {
      "cell_type": "code",
      "execution_count": null,
      "metadata": {
        "id": "GFqcJNKpfcVZ"
      },
      "outputs": [],
      "source": [
        "cm_cr(val_generator, model)"
      ]
    },
    {
      "cell_type": "code",
      "execution_count": null,
      "metadata": {
        "id": "wrTQCMoXfcSv"
      },
      "outputs": [],
      "source": [
        "cm_cr(test_generator, model)"
      ]
    },
    {
      "cell_type": "code",
      "execution_count": null,
      "metadata": {
        "id": "5e1KrrVEfcF2"
      },
      "outputs": [],
      "source": [
        "labels = (train_generator.class_indices)\n",
        "labels = dict((v,k) for k,v in labels.items())\n",
        "preds_labels = [labels[k] for k in predicted_classes]"
      ]
    },
    {
      "cell_type": "code",
      "execution_count": null,
      "metadata": {
        "id": "Xj7rwextfcBU"
      },
      "outputs": [],
      "source": [
        "filenames=test_generator.filenames\n",
        "results=pd.DataFrame({\"Filename\":filenames,\n",
        "                      \"Predictions\":preds_labels,\n",
        "                      \"Value\":predicted_classes_2})\n",
        "results.to_csv(\"results.csv\",index=False)\n",
        "files.download(\"results.csv\")"
      ]
    },
    {
      "cell_type": "code",
      "execution_count": null,
      "metadata": {
        "id": "fg4LROFCV3n2"
      },
      "outputs": [],
      "source": [
        "results_json = pd.read_csv(\"results.csv\")"
      ]
    },
    {
      "cell_type": "code",
      "execution_count": null,
      "metadata": {
        "id": "rr0AsxzJV3by"
      },
      "outputs": [],
      "source": [
        "results_json.to_json(\"predictions.json\")"
      ]
    },
    {
      "cell_type": "code",
      "execution_count": null,
      "metadata": {
        "id": "aPwD6Nh2V61u"
      },
      "outputs": [],
      "source": [
        "files.download(\"predictions.json\")"
      ]
    },
    {
      "cell_type": "code",
      "execution_count": null,
      "metadata": {},
      "outputs": [],
      "source": [
        "from tensorflow.keras.models import Sequential\n",
        "from tensorflow.keras.layers import Conv2D, MaxPool2D, Flatten, Dense, Dropout, BatchNormalization\n",
        "\n",
        "\n",
        "class MyModel:\n",
        "    def __init__(self, input_shape, num_classes):\n",
        "        self.model = Sequential([\n",
        "        # First block\n",
        "        Conv2D(filters=32, kernel_size=(3, 3), activation='relu', input_shape=input_shape),\n",
        "        BatchNormalization(),\n",
        "        Conv2D(filters=32, kernel_size=(3, 3), activation='relu'),\n",
        "        BatchNormalization(),\n",
        "        MaxPool2D(strides=(2, 2)),\n",
        "        Dropout(0.2),\n",
        "\n",
        "        # Second block\n",
        "        Conv2D(filters=64, kernel_size=(3, 3), activation='relu'),\n",
        "        BatchNormalization(),\n",
        "        Conv2D(filters=64, kernel_size=(3, 3), activation='relu'),\n",
        "        BatchNormalization(),\n",
        "        MaxPool2D(strides=(2, 2)),\n",
        "        Dropout(0.2),\n",
        "\n",
        "        # Third block \n",
        "        Conv2D(filters=128, kernel_size=(3, 3), activation='relu'),\n",
        "        BatchNormalization(),\n",
        "        Conv2D(filters=128, kernel_size=(3, 3), activation='relu'),\n",
        "        BatchNormalization(),\n",
        "        MaxPool2D(strides=(2, 2)),\n",
        "        Dropout(0.2),\n",
        "\n",
        "        # Fourth block\n",
        "        Conv2D(filters=256, kernel_size=(3, 3), activation='relu'),\n",
        "        BatchNormalization(),\n",
        "        Conv2D(filters=256, kernel_size=(3, 3), activation='relu'),\n",
        "        BatchNormalization(),\n",
        "        MaxPool2D(strides=(2, 2)),\n",
        "        Dropout(0.2),\n",
        "\n",
        "        Flatten(),\n",
        "        Dense(512, activation='relu'),\n",
        "        Dropout(0.5),\n",
        "        Dense(num_classes, activation='softmax')\n",
        "])\n",
        "\n",
        "    def get_model(self):\n",
        "        return self.model\n",
        "    \n",
        "    def compile_model(self, optimizer='adam', loss='sparse_categorical_crossentropy', metrics=['accuracy']):\n",
        "        self.model.compile(optimizer=optimizer, loss=loss, metrics=metrics)\n",
        "\n",
        "    def predict(self, test_generator):\n",
        "        probabilities = self.model.predict(test_generator)\n",
        "        return probabilities\n",
        "    \n",
        "    def save_weights(self, filepath):\n",
        "        self.model.save_weights(filepath)\n",
        "\n",
        "    def summary(self):\n",
        "        self.model.summary()\n",
        "    \n",
        "    def get_history(self):\n",
        "        return self.history.history"
      ]
    },
    {
      "cell_type": "code",
      "execution_count": null,
      "metadata": {},
      "outputs": [],
      "source": [
        "from tensorflow.keras.models import Sequential\n",
        "from tensorflow.keras.layers import Conv2D, MaxPool2D, Flatten, Dense, Dropout, BatchNormalization\n",
        "\n",
        "\n",
        "class MyModel:\n",
        "    def __init__(self, input_shape, num_classes):\n",
        "        self.model = Sequential([\n",
        "        # First block\n",
        "        Conv2D(filters=64, kernel_size=(3, 3), activation='relu', input_shape=input_shape),\n",
        "        BatchNormalization(),\n",
        "        Conv2D(filters=64, kernel_size=(3, 3), activation='relu'),\n",
        "        BatchNormalization(),\n",
        "        MaxPool2D(strides=(2, 2)),\n",
        "        Dropout(0.2),\n",
        "\n",
        "        # Second block\n",
        "        Conv2D(filters=128, kernel_size=(3, 3), activation='relu'),\n",
        "        BatchNormalization(),\n",
        "        Conv2D(filters=128, kernel_size=(3, 3), activation='relu'),\n",
        "        BatchNormalization(),\n",
        "        MaxPool2D(strides=(2, 2)),\n",
        "        Dropout(0.2),\n",
        "\n",
        "        # Third block \n",
        "        Conv2D(filters=256, kernel_size=(3, 3), activation='relu'),\n",
        "        BatchNormalization(),\n",
        "        Conv2D(filters=256, kernel_size=(3, 3), activation='relu'),\n",
        "        BatchNormalization(),\n",
        "        MaxPool2D(strides=(2, 2)),\n",
        "        Dropout(0.2),\n",
        "\n",
        "        # Fourth block\n",
        "        Conv2D(filters=512, kernel_size=(3, 3), activation='relu'),\n",
        "        BatchNormalization(),\n",
        "        Conv2D(filters=512, kernel_size=(3, 3), activation='relu'),\n",
        "        BatchNormalization(),\n",
        "        MaxPool2D(strides=(2, 2)),\n",
        "        Dropout(0.2),\n",
        "\n",
        "        Flatten(),\n",
        "        Dense(1024, activation='relu'),\n",
        "        Dropout(0.5),\n",
        "        Dense(512, activation='relu'),\n",
        "        Dropout(0.5),\n",
        "        Dense(num_classes, activation='softmax')\n",
        "])\n",
        "\n",
        "    def get_model(self):\n",
        "        return self.model\n",
        "    \n",
        "    def compile_model(self, optimizer='adam', loss='sparse_categorical_crossentropy', metrics=['accuracy']):\n",
        "        self.model.compile(optimizer=optimizer, loss=loss, metrics=metrics)\n",
        "\n",
        "    def predict(self, test_generator):\n",
        "        probabilities = self.model.predict(test_generator)\n",
        "        return probabilities\n",
        "    \n",
        "    def save_weights(self, filepath):\n",
        "        self.model.save_weights(filepath)\n",
        "\n",
        "    def summary(self):\n",
        "        self.model.summary()\n",
        "    \n",
        "    def get_history(self):\n",
        "        return self.history.history"
      ]
    },
    {
      "cell_type": "code",
      "execution_count": null,
      "metadata": {},
      "outputs": [],
      "source": [
        "from tensorflow.keras.models import Sequential\n",
        "from tensorflow.keras.layers import Conv2D, MaxPool2D, Flatten, Dense, Dropout, BatchNormalization\n",
        "\n",
        "\n",
        "class MyModel:\n",
        "    def __init__(self, input_shape, num_classes):\n",
        "        self.model = Sequential([\n",
        "        # First block\n",
        "        Conv2D(filters=32, kernel_size=(3, 3), activation='relu', input_shape=input_shape),\n",
        "        BatchNormalization(),\n",
        "        Conv2D(filters=32, kernel_size=(3, 3), activation='relu'),\n",
        "        BatchNormalization(),\n",
        "        MaxPool2D(strides=(2, 2)),\n",
        "        Dropout(0.2),\n",
        "\n",
        "        # Second block\n",
        "        Conv2D(filters=64, kernel_size=(3, 3), activation='relu', input_shape=input_shape),\n",
        "        BatchNormalization(),\n",
        "        Conv2D(filters=64, kernel_size=(3, 3), activation='relu'),\n",
        "        BatchNormalization(),\n",
        "        MaxPool2D(strides=(2, 2)),\n",
        "        Dropout(0.2),\n",
        "\n",
        "        # Third block\n",
        "        Conv2D(filters=128, kernel_size=(3, 3), activation='relu'),\n",
        "        BatchNormalization(),\n",
        "        Conv2D(filters=128, kernel_size=(3, 3), activation='relu'),\n",
        "        BatchNormalization(),\n",
        "        MaxPool2D(strides=(2, 2)),\n",
        "        Dropout(0.2),\n",
        "\n",
        "        # Fourth block \n",
        "        Conv2D(filters=256, kernel_size=(3, 3), activation='relu'),\n",
        "        BatchNormalization(),\n",
        "        Conv2D(filters=256, kernel_size=(3, 3), activation='relu'),\n",
        "        BatchNormalization(),\n",
        "        MaxPool2D(strides=(2, 2)),\n",
        "        Dropout(0.2),\n",
        "\n",
        "        # Fifth block\n",
        "        Conv2D(filters=512, kernel_size=(3, 3), activation='relu'),\n",
        "        BatchNormalization(),\n",
        "        Conv2D(filters=512, kernel_size=(3, 3), activation='relu'),\n",
        "        BatchNormalization(),\n",
        "        MaxPool2D(strides=(2, 2)),\n",
        "        Dropout(0.2),\n",
        "\n",
        "        Flatten(),\n",
        "        Dense(1024, activation='relu'),\n",
        "        Dropout(0.5),\n",
        "        Dense(num_classes, activation='softmax')\n",
        "])\n",
        "\n",
        "    def get_model(self):\n",
        "        return self.model\n",
        "    \n",
        "    def compile_model(self, optimizer='adam', loss='sparse_categorical_crossentropy', metrics=['accuracy']):\n",
        "        self.model.compile(optimizer=optimizer, loss=loss, metrics=metrics)\n",
        "\n",
        "    def predict(self, test_generator):\n",
        "        probabilities = self.model.predict(test_generator)\n",
        "        return probabilities\n",
        "    \n",
        "    def save_weights(self, filepath):\n",
        "        self.model.save_weights(filepath)\n",
        "\n",
        "    def summary(self):\n",
        "        self.model.summary()\n",
        "    \n",
        "    def get_history(self):\n",
        "        return self.history.history"
      ]
    }
  ],
  "metadata": {
    "colab": {
      "provenance": []
    },
    "kernelspec": {
      "display_name": "Python 3.9.7 ('base')",
      "language": "python",
      "name": "python3"
    },
    "language_info": {
      "codemirror_mode": {
        "name": "ipython",
        "version": 3
      },
      "file_extension": ".py",
      "mimetype": "text/x-python",
      "name": "python",
      "nbconvert_exporter": "python",
      "pygments_lexer": "ipython3",
      "version": "3.9.7"
    },
    "vscode": {
      "interpreter": {
        "hash": "1f5349f22914ea998d92dd9e489898344b1633e89f9cf8e76bd1bc2968b90ea4"
      }
    }
  },
  "nbformat": 4,
  "nbformat_minor": 0
}
